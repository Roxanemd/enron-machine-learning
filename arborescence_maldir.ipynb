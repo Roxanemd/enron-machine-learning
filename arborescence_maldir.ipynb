{
 "cells": [
  {
   "cell_type": "code",
   "execution_count": 10,
   "metadata": {
    "collapsed": true
   },
   "outputs": [],
   "source": [
    "import os\n",
    "\n",
    "rootdir = \"../maildir_test\"\n",
    "arborescence =[] \n",
    "for directory, subdirectory, filenames in  os.walk(rootdir):\n",
    "    entry = [directory, subdirectory, len(filenames), filenames]\n",
    "    #print(entry)\n",
    "    arborescence.append(entry)\n",
    "    \n"
   ]
  },
  {
   "cell_type": "code",
   "execution_count": 11,
   "metadata": {},
   "outputs": [
    {
     "name": "stdout",
     "output_type": "stream",
     "text": [
      "59\n"
     ]
    }
   ],
   "source": [
    "print len(arborescence)  # nombre de sous répertoires \n",
    "files = []\n",
    "dirnames_persons = arborescence[0][0:2]  # obtient juste le nom des répertoires de chaque individu\n",
    "for arbo in arborescence :\n",
    "    if arbo[2] > 0 : # répertoire de fichiers\n",
    "        #print arbo\n",
    "        for filename in arbo[3] :\n",
    "            #print filename\n",
    "            files.append(arbo[0] + \"/\"  + filename )\n",
    "        \n",
    "\n"
   ]
  },
  {
   "cell_type": "code",
   "execution_count": 12,
   "metadata": {},
   "outputs": [
    {
     "name": "stdout",
     "output_type": "stream",
     "text": [
      "../maildir_test/allen-p/inbox/2.\n",
      "('\\nTo: ', None)\n",
      "('\\nX-To: ', \"'daniel.mcdonagh@chase.com', Allen, Phillip K. </O=ENRON/OU=NA/CN=RECIPIENTS/CN=Pallen>, 'pallen70@hotmail.com'\")\n",
      "('\\n From: ', 'brad.jones@enron.com')\n",
      "('\\n Subject: ', 'Gas P&L by day')\n",
      "('\\n \\n Body: ', 'Attached is the information you have requested.\\n\\nThanks,\\nBrad Jones\\n\\n ')\n"
     ]
    }
   ],
   "source": [
    "from email.parser import Parser\n",
    "# exemple pour ce module qui a l'air bcp plus pratique\n",
    "\n",
    "file_to_read= \"../maildir_test/allen-p/inbox/2.\"\n",
    "#file_to_read = files[0]   # un seuk fichier est passé\n",
    "print file_to_read\n",
    "\n",
    "with open(file_to_read, \"r\") as f:\n",
    "    data = f.read()\n",
    "\n",
    "#print(data)\n",
    "\n",
    "email = Parser().parsestr(data)\n",
    "\n",
    "# On pourrait rajouter le schéma ici\n",
    "print(\"\\nTo: \" , email['To'])\n",
    "print(\"\\nX-To: \" , email['X-to'])\n",
    "print(\"\\n From: \" , email['From'])\n",
    "\n",
    "print(\"\\n Subject: \" , email['subject'])\n",
    "\n",
    "print(\"\\n \\n Body: \" , email.get_payload())"
   ]
  },
  {
   "cell_type": "code",
   "execution_count": 13,
   "metadata": {},
   "outputs": [
    {
     "data": {
      "text/plain": [
       "\"'daniel.mcdonagh@chase.com', Allen, Phillip K. </O=ENRON/OU=NA/CN=RECIPIENTS/CN=Pallen>, 'pallen70@hotmail.com'\""
      ]
     },
     "execution_count": 13,
     "metadata": {},
     "output_type": "execute_result"
    }
   ],
   "source": [
    "len(email)\n",
    "email['X-To']"
   ]
  },
  {
   "cell_type": "code",
   "execution_count": 8,
   "metadata": {
    "collapsed": true
   },
   "outputs": [],
   "source": [
    "import os\n",
    "from email.parser import Parser\n",
    "# toujoours avec cette lib on peut extraire les balises dans des listes et écrire le resultat dans des fichiers\n",
    "rootdir = \"../maildir_test/allen-p\"  # sur le repertoire de quelqu'un\n",
    "\n",
    "\n",
    "def email_analyse(inputfile, to_email_list, from_email_list, email_body):\n",
    "    with open(inputfile, \"r\") as f:\n",
    "        data = f.read()\n",
    "\n",
    "    email = Parser().parsestr(data)\n",
    "\n",
    "    to_email_list.append(email['to'])\n",
    "    from_email_list.append(email['from'])\n",
    "\n",
    "    email_body.append(email.get_payload())\n",
    "\n",
    "\n",
    "to_email_list = []\n",
    "from_email_list = []\n",
    "email_body = []\n",
    "\n",
    "for directory, subdirectory, filenames in  os.walk(rootdir):\n",
    "    for filename in filenames:\n",
    "        email_analyse(os.path.join(directory, filename), to_email_list, from_email_list, email_body )\n",
    "\n",
    "\n",
    "with open(\"to_email_list.txt\", \"w\") as f:\n",
    "    for to_email in to_email_list:\n",
    "        if to_email:\n",
    "            f.write(to_email)\n",
    "            f.write(\"\\n\")\n",
    "\n",
    "with open(\"from_email_list.txt\", \"w\") as f:\n",
    "    for from_email in from_email_list:\n",
    "        if from_email:\n",
    "            f.write(from_email)\n",
    "            f.write(\"\\n\")        \n",
    "\n",
    "with open(\"email_body.txt\", \"w\") as f:\n",
    "    for email_bod in email_body:\n",
    "        if email_bod:\n",
    "            f.write(email_bod)\n",
    "            f.write(\"\\n\") "
   ]
  },
  {
   "cell_type": "code",
   "execution_count": 9,
   "metadata": {},
   "outputs": [
    {
     "name": "stdout",
     "output_type": "stream",
     "text": [
      "\n",
      "To email adresses: \n",
      "\n",
      "[('john.arnold@enron.com', 604), ('ina.rangel@enron.com', 395), ('mike.maggi@enron.com', 276), ('john.lavorato@enron.com', 233), ('mike.grigsby@enron.com', 216), ('keith.holst@enron.com', 216), ('jennifer.fraser@enron.com', 210), ('pallen@enron.com', 195), ('slafontaine@globalp.com', 180), ('k..allen@enron.com', 166)]\n",
      "\n",
      "From email adresses: \n",
      "\n",
      "[('john.arnold@enron.com', 3491), ('phillip.allen@enron.com', 2125), ('k..allen@enron.com', 297), ('sarah-joy.hunter@enron.com', 74), ('no.address@enron.com', 72), ('jeff.youngflesh@enron.com', 55), ('ina.rangel@enron.com', 47), ('soblander@carrfut.com', 45), ('arsystem@mailman.enron.com', 39), ('caroline.abramo@enron.com', 33)]\n",
      "7932\n"
     ]
    }
   ],
   "source": [
    "import os\n",
    "from collections import Counter\n",
    "# exemple où l'on applique Counter() pour afficher les occurrences max\n",
    "from email.parser import Parser\n",
    "rootdir = \"../maildir_test/\"  # sur le répertoire en entier\n",
    "\n",
    "\n",
    "def email_analyse(inputfile, to_email_list, from_email_list, email_body):\n",
    "    with open(inputfile, \"r\") as f:\n",
    "        data = f.read()\n",
    "\n",
    "    email = Parser().parsestr(data)\n",
    "    \n",
    "    if email['to']:\n",
    "        email_to = email['to']\n",
    "        email_to = email_to.replace(\"\\n\", \"\")\n",
    "        email_to = email_to.replace(\"\\t\", \"\")\n",
    "        email_to = email_to.replace(\" \", \"\")\n",
    "\n",
    "        email_to = email_to.split(\",\")\n",
    "\n",
    "        for email_to_1 in email_to:\n",
    "            to_email_list.append(email_to_1)\n",
    "\n",
    "    from_email_list.append(email['from'])\n",
    "\n",
    "\n",
    "to_email_list = []\n",
    "from_email_list = []\n",
    "email_body = []\n",
    "\n",
    "for directory, subdirectory, filenames in  os.walk(rootdir):\n",
    "    for filename in filenames:\n",
    "        email_analyse(os.path.join(directory, filename), to_email_list, from_email_list, email_body )\n",
    "\n",
    "print(\"\\nTo email adresses: \\n\")\n",
    "print(Counter(to_email_list).most_common(10))\n",
    "\n",
    "print(\"\\nFrom email adresses: \\n\")\n",
    "print(Counter(from_email_list).most_common(10))\n",
    "print len(from_email_list)"
   ]
  },
  {
   "cell_type": "code",
   "execution_count": 67,
   "metadata": {},
   "outputs": [
    {
     "data": {
      "text/plain": [
       "['richard.morgan@austinenergy.com',\n",
       " 'kirk.mcdaniel@enron.com',\n",
       " 'wise.counsel@lpl.com',\n",
       " 'gthorse@about-cis.com',\n",
       " 'anchordesk_daily@anchordesk.zdlists.com',\n",
       " 'wise.counsel@lpl.com',\n",
       " 'arsystem@mailman.enron.com',\n",
       " \"ryan.o'rourke@enron.com\",\n",
       " 'renee.ratcliff@enron.com',\n",
       " 'louise.kitchen@enron.com']"
      ]
     },
     "execution_count": 67,
     "metadata": {},
     "output_type": "execute_result"
    }
   ],
   "source": [
    "from_email_list[0:10]"
   ]
  },
  {
   "cell_type": "code",
   "execution_count": null,
   "metadata": {
    "collapsed": true
   },
   "outputs": [],
   "source": []
  }
 ],
 "metadata": {
  "kernelspec": {
   "display_name": "Python [conda env:py2]",
   "language": "python",
   "name": "conda-env-py2-py"
  },
  "language_info": {
   "codemirror_mode": {
    "name": "ipython",
    "version": 2
   },
   "file_extension": ".py",
   "mimetype": "text/x-python",
   "name": "python",
   "nbconvert_exporter": "python",
   "pygments_lexer": "ipython2",
   "version": "2.7.13"
  }
 },
 "nbformat": 4,
 "nbformat_minor": 2
}
